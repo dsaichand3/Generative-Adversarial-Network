{
  "nbformat": 4,
  "nbformat_minor": 0,
  "metadata": {
    "colab": {
      "name": "Generative Adversarial Network.ipynb",
      "version": "0.3.2",
      "provenance": [],
      "collapsed_sections": []
    },
    "kernelspec": {
      "name": "python3",
      "display_name": "Python 3"
    }
  },
  "cells": [
    {
      "cell_type": "code",
      "metadata": {
        "id": "5V_R33qR82PC",
        "colab_type": "code",
        "colab": {}
      },
      "source": [
        "import os\n",
        "import numpy as np\n",
        "import matplotlib.pyplot as plt"
      ],
      "execution_count": 0,
      "outputs": []
    },
    {
      "cell_type": "code",
      "metadata": {
        "id": "15lixM8-i1kJ",
        "colab_type": "code",
        "colab": {}
      },
      "source": [
        "import tensorflow\n",
        "from tensorflow.keras.datasets import mnist\n",
        "from tensorflow.keras.models import Model, Sequential\n",
        "import tensorflow.keras.optimizers as Optimizer\n",
        "from tensorflow.keras.layers import Flatten, Dense, Dropout, LeakyReLU, BatchNormalization, Reshape, Conv2DTranspose, Conv2D, Input\n",
        "from tensorflow.keras import backend as K"
      ],
      "execution_count": 0,
      "outputs": []
    },
    {
      "cell_type": "code",
      "metadata": {
        "id": "ngjnMMJ7idi6",
        "colab_type": "code",
        "outputId": "eff8b444-2ee2-4946-d087-714d5bbd10b3",
        "colab": {
          "base_uri": "https://localhost:8080/",
          "height": 50
        }
      },
      "source": [
        "(X_train, y_train), (X_test, y_test) = mnist.load_data()"
      ],
      "execution_count": 0,
      "outputs": [
        {
          "output_type": "stream",
          "text": [
            "Downloading data from https://storage.googleapis.com/tensorflow/tf-keras-datasets/mnist.npz\n",
            "11493376/11490434 [==============================] - 0s 0us/step\n"
          ],
          "name": "stdout"
        }
      ]
    },
    {
      "cell_type": "code",
      "metadata": {
        "id": "H2EriGUCIXX9",
        "colab_type": "code",
        "outputId": "c8734be2-1d1e-430f-82f6-4fc34d9ae295",
        "colab": {
          "base_uri": "https://localhost:8080/",
          "height": 245
        }
      },
      "source": [
        "fig = plt.figure()\n",
        "for i in range(10):\n",
        "    plt.subplot(2, 5, i+1)\n",
        "    x_y = X_train[y_train == i]\n",
        "    plt.imshow(x_y[0], cmap='gray', interpolation='none')\n",
        "    plt.title(\"Class %d\" % (i))\n",
        "    plt.xticks([])\n",
        "    plt.yticks([])\n",
        "    \n",
        "plt.tight_layout()\n"
      ],
      "execution_count": 0,
      "outputs": [
        {
          "output_type": "display_data",
          "data": {
            "image/png": "[encoded data removed]",
            "text/plain": [
              "<Figure size 432x288 with 10 Axes>"
            ]
          },
          "metadata": {
            "tags": []
          }
        }
      ]
    },
    {
      "cell_type": "code",
      "metadata": {
        "id": "z6kmFK90IYV3",
        "colab_type": "code",
        "outputId": "91015c98-c2ba-4fc9-ac1e-eb72bebf9b2d",
        "colab": {
          "base_uri": "https://localhost:8080/",
          "height": 50
        }
      },
      "source": [
        "print('X_train.shape', X_train.shape)\n",
        "\n",
        "if K.image_data_format() == 'channels_first':\n",
        "    X_train = X_train.reshape(X_train.shape[0], 1, 28, 28)\n",
        "    X_test = X_test.reshape(X_test.shape[0], 1, 28, 28)\n",
        "    input_shape = (1, 28, 28)\n",
        "else:\n",
        "    X_train = X_train.reshape(X_train.shape[0], 28, 28, 1)\n",
        "    X_test = X_test.reshape(X_test.shape[0], 28, 28, 1)\n",
        "    input_shape = (28, 28, 1)\n",
        "\n",
        "# the generator is using tanh activation, for which we need to preprocess \n",
        "# the image data into the range between -1 and 1.\n",
        "\n",
        "X_train = np.float32(X_train)\n",
        "X_train = (X_train / 255 - 0.5) * 2\n",
        "X_train = np.clip(X_train, -1, 1)\n",
        "\n",
        "print('X_train reshape:', X_train.shape)"
      ],
      "execution_count": 0,
      "outputs": [
        {
          "output_type": "stream",
          "text": [
            "X_train.shape (60000, 28, 28)\n",
            "X_train reshape: (60000, 28, 28, 1)\n"
          ],
          "name": "stdout"
        }
      ]
    },
    {
      "cell_type": "code",
      "metadata": {
        "id": "aUDZn5Y_ikHx",
        "colab_type": "code",
        "colab": {}
      },
      "source": [
        "def generator():\n",
        "  model = Sequential()\n",
        "  \n",
        "  model.add(Dense(7*7*256, use_bias=False, input_shape = (100,)))\n",
        "  model.add(BatchNormalization())\n",
        "  model.add(LeakyReLU())\n",
        "  \n",
        "  model.add(Reshape((7,7,256)))\n",
        "  assert model.output_shape == (None, 7, 7, 256)\n",
        "  \n",
        "  model.add(Conv2DTranspose(128, (5,5), strides = (1, 1), padding='same'))\n",
        "  model.add(BatchNormalization())\n",
        "  model.add(LeakyReLU())\n",
        "  assert model.output_shape == (None, 7, 7, 128)\n",
        "  \n",
        "  model.add(Conv2DTranspose(64, (5,5), strides = (2, 2), padding='same'))\n",
        "  model.add(BatchNormalization())\n",
        "  model.add(LeakyReLU())\n",
        "  assert model.output_shape == (None, 14, 14, 64)\n",
        "  \n",
        "  model.add(Conv2DTranspose(1, (5,5), strides = (2, 2), padding='same', activation='tanh'))\n",
        "  assert model.output_shape == (None, 28, 28, 1)\n",
        "  \n",
        "  print(model.summary())\n",
        "  \n",
        "  return model"
      ],
      "execution_count": 0,
      "outputs": []
    },
    {
      "cell_type": "code",
      "metadata": {
        "id": "BU-aR1y_i3if",
        "colab_type": "code",
        "colab": {}
      },
      "source": [
        "def discriminator():\n",
        "  model = Sequential()\n",
        "\n",
        "  model.add(Conv2D(32, (5,5), strides=(2, 2), padding='same', input_shape=[28, 28, 1]))\n",
        "  model.add(LeakyReLU())\n",
        "  model.add(Dropout(0.3))\n",
        "\n",
        "  model.add(Conv2D(64, (5,5), strides=(2, 2), padding='same', input_shape=[28, 28, 1]))\n",
        "  model.add(LeakyReLU())\n",
        "  model.add(Dropout(0.3))\n",
        "\n",
        "  model.add(Conv2D(128, (5,5), strides=(2, 2), padding='same'))\n",
        "  model.add(LeakyReLU())\n",
        "  model.add(Dropout(0.3))\n",
        "\n",
        "  model.add(Conv2D(256, (5,5), strides=(2, 2), padding='same'))\n",
        "  model.add(LeakyReLU())\n",
        "  model.add(Dropout(0.3))\n",
        "\n",
        "  model.add(Flatten())\n",
        "  model.add(Dense(1,activation='sigmoid'))\n",
        "  \n",
        "  print(model.summary())\n",
        "\n",
        "  return model\n",
        "\n",
        "            "
      ],
      "execution_count": 0,
      "outputs": []
    },
    {
      "cell_type": "code",
      "metadata": {
        "id": "ML9sXmOX-F8O",
        "colab_type": "code",
        "outputId": "f111cb9a-ebe4-41e2-9adb-bc05cf01d8ec",
        "colab": {
          "base_uri": "https://localhost:8080/",
          "height": 1246
        }
      },
      "source": [
        "gen_model = generator()\n",
        "dis_model = discriminator()\n",
        "dis_model.compile(loss = 'binary_crossentropy', optimizer = Optimizer.Adam(lr=0.0003), metrics=['accuracy'])"
      ],
      "execution_count": 0,
      "outputs": [
        {
          "output_type": "stream",
          "text": [
            "WARNING:tensorflow:From /usr/local/lib/python3.6/dist-packages/tensorflow/python/ops/resource_variable_ops.py:435: colocate_with (from tensorflow.python.framework.ops) is deprecated and will be removed in a future version.\n",
            "Instructions for updating:\n",
            "Colocations handled automatically by placer.\n",
            "_________________________________________________________________\n",
            "Layer (type)                 Output Shape              Param #   \n",
            "=================================================================\n",
            "dense (Dense)                (None, 12544)             1254400   \n",
            "_________________________________________________________________\n",
            "batch_normalization_v1 (Batc (None, 12544)             50176     \n",
            "_________________________________________________________________\n",
            "leaky_re_lu (LeakyReLU)      (None, 12544)             0         \n",
            "_________________________________________________________________\n",
            "reshape (Reshape)            (None, 7, 7, 256)         0         \n",
            "_________________________________________________________________\n",
            "conv2d_transpose (Conv2DTran (None, 7, 7, 128)         819328    \n",
            "_________________________________________________________________\n",
            "batch_normalization_v1_1 (Ba (None, 7, 7, 128)         512       \n",
            "_________________________________________________________________\n",
            "leaky_re_lu_1 (LeakyReLU)    (None, 7, 7, 128)         0         \n",
            "_________________________________________________________________\n",
            "conv2d_transpose_1 (Conv2DTr (None, 14, 14, 64)        204864    \n",
            "_________________________________________________________________\n",
            "batch_normalization_v1_2 (Ba (None, 14, 14, 64)        256       \n",
            "_________________________________________________________________\n",
            "leaky_re_lu_2 (LeakyReLU)    (None, 14, 14, 64)        0         \n",
            "_________________________________________________________________\n",
            "conv2d_transpose_2 (Conv2DTr (None, 28, 28, 1)         1601      \n",
            "=================================================================\n",
            "Total params: 2,331,137\n",
            "Trainable params: 2,305,665\n",
            "Non-trainable params: 25,472\n",
            "_________________________________________________________________\n",
            "None\n",
            "WARNING:tensorflow:From /usr/local/lib/python3.6/dist-packages/tensorflow/python/keras/layers/core.py:143: calling dropout (from tensorflow.python.ops.nn_ops) with keep_prob is deprecated and will be removed in a future version.\n",
            "Instructions for updating:\n",
            "Please use `rate` instead of `keep_prob`. Rate should be set to `rate = 1 - keep_prob`.\n",
            "_________________________________________________________________\n",
            "Layer (type)                 Output Shape              Param #   \n",
            "=================================================================\n",
            "conv2d (Conv2D)              (None, 14, 14, 32)        832       \n",
            "_________________________________________________________________\n",
            "leaky_re_lu_3 (LeakyReLU)    (None, 14, 14, 32)        0         \n",
            "_________________________________________________________________\n",
            "dropout (Dropout)            (None, 14, 14, 32)        0         \n",
            "_________________________________________________________________\n",
            "conv2d_1 (Conv2D)            (None, 7, 7, 64)          51264     \n",
            "_________________________________________________________________\n",
            "leaky_re_lu_4 (LeakyReLU)    (None, 7, 7, 64)          0         \n",
            "_________________________________________________________________\n",
            "dropout_1 (Dropout)          (None, 7, 7, 64)          0         \n",
            "_________________________________________________________________\n",
            "conv2d_2 (Conv2D)            (None, 4, 4, 128)         204928    \n",
            "_________________________________________________________________\n",
            "leaky_re_lu_5 (LeakyReLU)    (None, 4, 4, 128)         0         \n",
            "_________________________________________________________________\n",
            "dropout_2 (Dropout)          (None, 4, 4, 128)         0         \n",
            "_________________________________________________________________\n",
            "conv2d_3 (Conv2D)            (None, 2, 2, 256)         819456    \n",
            "_________________________________________________________________\n",
            "leaky_re_lu_6 (LeakyReLU)    (None, 2, 2, 256)         0         \n",
            "_________________________________________________________________\n",
            "dropout_3 (Dropout)          (None, 2, 2, 256)         0         \n",
            "_________________________________________________________________\n",
            "flatten (Flatten)            (None, 1024)              0         \n",
            "_________________________________________________________________\n",
            "dense_1 (Dense)              (None, 1)                 1025      \n",
            "=================================================================\n",
            "Total params: 1,077,505\n",
            "Trainable params: 1,077,505\n",
            "Non-trainable params: 0\n",
            "_________________________________________________________________\n",
            "None\n"
          ],
          "name": "stdout"
        }
      ]
    },
    {
      "cell_type": "code",
      "metadata": {
        "id": "3ZRY5KHOKKrZ",
        "colab_type": "code",
        "colab": {}
      },
      "source": [
        "dis_model.trainable = False\n",
        "\n",
        "noise = Input(shape=(100,))\n",
        "gen_output = gen_model(noise)\n",
        "decision = dis_model(gen_output)\n",
        "gan = Model(inputs=noise, outputs=decision) "
      ],
      "execution_count": 0,
      "outputs": []
    },
    {
      "cell_type": "code",
      "metadata": {
        "id": "PhvC4zKaKrla",
        "colab_type": "code",
        "colab": {}
      },
      "source": [
        "gan.compile(optimizer=Optimizer.Adam(lr=0.0001), loss='binary_crossentropy', metrics=['binary_accuracy'])"
      ],
      "execution_count": 0,
      "outputs": []
    },
    {
      "cell_type": "code",
      "metadata": {
        "id": "EX8t7DRr_7Kd",
        "colab_type": "code",
        "outputId": "cc1bd007-3353-4a5f-e099-dc91f1df9c6c",
        "colab": {
          "base_uri": "https://localhost:8080/",
          "height": 843
        }
      },
      "source": [
        "epochs = 100\n",
        "\n",
        "smooth = 0.1\n",
        "batch_size = 64\n",
        "\n",
        "real = np.ones(shape=(batch_size, 1))\n",
        "fake = np.zeros(shape=(batch_size, 1))\n",
        "\n",
        "dis_loss = []\n",
        "gan_loss = []\n",
        "\n",
        "for e in range(epochs+1):\n",
        "  for i in range(len(X_train) // batch_size):\n",
        "    dis_model.trainable = True\n",
        "\n",
        "    # Real samples given to discriminator\n",
        "    X_batch = X_train[i*batch_size:(i+1)*batch_size]\n",
        "    d_loss_real = dis_model.train_on_batch(x=X_batch, y=real * (1 - smooth))\n",
        "\n",
        "    #Fake images are generated by generator and are fed again to discriminator\n",
        "    z = np.random.normal(loc=0, scale=1, size=(batch_size, 100))\n",
        "    X_fake = gen_model.predict_on_batch(z)\n",
        "    d_loss_fake = dis_model.train_on_batch(x=X_fake, y=fake)\n",
        "\n",
        "    #Calculating overall loss\n",
        "    d_loss_batch = 0.5 * (d_loss_real[0] + d_loss_fake[0])\n",
        "\n",
        "    # Train Generator weights\n",
        "    dis_model.trainable = False\n",
        "    d_g_loss_batch = gan.train_on_batch(x=z, y=real)\n",
        "\n",
        "\n",
        "    \"\"\"print(\n",
        "          'epoch = %d/%d, batch = %d/%d, d_loss=%.3f, g_loss=%.3f' % (e + 1, epochs, i, len(X_train) // batch_size, d_loss_batch, d_g_loss_batch[0]),\n",
        "          100*' ',\n",
        "          end='\\r'\n",
        "          )\"\"\"\n",
        "\n",
        "  dis_loss.append(d_loss_batch)\n",
        "  gan_loss.append(d_g_loss_batch[0])\n",
        "  print('epoch = %d/%d, d_loss=%.3f, g_loss=%.3f' % (e + 1, epochs, dis_loss[-1], gan_loss[-1]), 100*' ')\n",
        "\n",
        "  if e % 10 == 0:\n",
        "    samples = 10\n",
        "    x_fake = gen_model.predict(np.random.normal(loc=0, scale=1, size=(samples, 100)))\n",
        "\n",
        "    for k in range(samples):\n",
        "      plt.subplot(2, 5, k+1)\n",
        "      plt.imshow(x_fake[k].reshape(28, 28), cmap='gray')\n",
        "      plt.xticks([])\n",
        "      plt.yticks([])\n",
        "\n",
        "    plt.tight_layout()\n",
        "    plt.show()\n",
        "  "
      ],
      "execution_count": 0,
      "outputs": [
        {
          "output_type": "stream",
          "text": [
            "WARNING:tensorflow:From /usr/local/lib/python3.6/dist-packages/tensorflow/python/ops/math_ops.py:3066: to_int32 (from tensorflow.python.ops.math_ops) is deprecated and will be removed in a future version.\n",
            "Instructions for updating:\n",
            "Use tf.cast instead.\n",
            "WARNING:tensorflow:Discrepancy between trainable weights and collected trainable weights, did you set `model.trainable` without calling `model.compile` after ?\n",
            "WARNING:tensorflow:Discrepancy between trainable weights and collected trainable weights, did you set `model.trainable` without calling `model.compile` after ?\n",
            "WARNING:tensorflow:Discrepancy between trainable weights and collected trainable weights, did you set `model.trainable` without calling `model.compile` after ?\n",
            "epoch = 1/100, d_loss=0.168, g_loss=9.010                                                                                                     \n"
          ],
          "name": "stdout"
        },
        {
          "output_type": "display_data",
          "data": {
            "image/png": "[encoded data removed]",
            "text/plain": [
              "<Figure size 432x288 with 10 Axes>"
            ]
          },
          "metadata": {
            "tags": []
          }
        },
        {
          "output_type": "stream",
          "text": [
            "epoch = 2/100, d_loss=0.211, g_loss=5.229                                                                                                     \n",
            "epoch = 3/100, d_loss=0.503, g_loss=2.254                                                                                                     \n",
            "epoch = 4/100, d_loss=0.482, g_loss=2.111                                                                                                     \n",
            "epoch = 5/100, d_loss=0.555, g_loss=1.594                                                                                                     \n",
            "epoch = 6/100, d_loss=0.524, g_loss=1.640                                                                                                     \n",
            "epoch = 7/100, d_loss=0.636, g_loss=1.410                                                                                                     \n",
            "epoch = 8/100, d_loss=0.569, g_loss=1.194                                                                                                     \n",
            "epoch = 9/100, d_loss=0.610, g_loss=1.383                                                                                                     \n",
            "epoch = 10/100, d_loss=0.584, g_loss=1.333                                                                                                     \n",
            "epoch = 11/100, d_loss=0.684, g_loss=1.045                                                                                                     \n"
          ],
          "name": "stdout"
        },
        {
          "output_type": "display_data",
          "data": {
            "image/png": "[encoded data removed]",
            "text/plain": [
              "<Figure size 432x288 with 10 Axes>"
            ]
          },
          "metadata": {
            "tags": []
          }
        },
        {
          "output_type": "stream",
          "text": [
            "epoch = 12/100, d_loss=0.641, g_loss=1.241                                                                                                     \n",
            "epoch = 13/100, d_loss=0.616, g_loss=1.405                                                                                                     \n",
            "epoch = 14/100, d_loss=0.624, g_loss=1.308                                                                                                     \n",
            "epoch = 15/100, d_loss=0.556, g_loss=1.527                                                                                                     \n",
            "epoch = 16/100, d_loss=0.583, g_loss=1.248                                                                                                     \n",
            "epoch = 17/100, d_loss=0.628, g_loss=1.176                                                                                                     \n",
            "epoch = 18/100, d_loss=0.603, g_loss=1.247                                                                                                     \n"
          ],
          "name": "stdout"
        }
      ]
    },
    {
      "cell_type": "code",
      "metadata": {
        "id": "wEQa-GITIysP",
        "colab_type": "code",
        "colab": {}
      },
      "source": [
        ""
      ],
      "execution_count": 0,
      "outputs": []
    }
  ]
}