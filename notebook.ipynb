{
 "cells": [
  {
   "cell_type": "code",
   "execution_count": 4,
   "metadata": {},
   "outputs": [],
   "source": [
    "BATCH_SIZE = 32"
   ]
  },
  {
   "cell_type": "code",
   "execution_count": 1,
   "metadata": {},
   "outputs": [],
   "source": [
    "import os\n",
    "import numpy as np\n",
    "import cv2\n",
    "import matplotlib.pyplot as plt\n",
    "from random import choice, sample"
   ]
  },
  {
   "cell_type": "code",
   "execution_count": 2,
   "metadata": {},
   "outputs": [],
   "source": [
    "import tensorflow\n",
    "from tensorflow.keras.models import Model, Sequential\n",
    "import tensorflow.keras.optimizers as Optimizer\n",
    "from tensorflow.keras.layers import Flatten, Dense, Dropout, LeakyReLU, BatchNormalization, Reshape, Conv2DTranspose, Conv2D, Input\n",
    "from tensorflow.keras.preprocessing.image import img_to_array, array_to_img, load_img"
   ]
  },
  {
   "cell_type": "code",
   "execution_count": 3,
   "metadata": {},
   "outputs": [],
   "source": [
    "def getRealMiniBatch(path, batch_size=BATCH_SIZE):\n",
    "    train_set = os.listdir(path)\n",
    "    while True:\n",
    "        batch = sample(train_set, batch_size)\n",
    "        images = []\n",
    "        for img in batch:\n",
    "            try:\n",
    "                x = os.path.join(path,img)\n",
    "                x = load_img(x, target_size = (512,512))\n",
    "                x = img_to_array(x)\n",
    "                images.append(x)\n",
    "            except:\n",
    "                continue\n",
    "        yield (np.array(images)/127.5)-1"
   ]
  },
  {
   "cell_type": "code",
   "execution_count": 4,
   "metadata": {},
   "outputs": [],
   "source": [
    "real_images_batch = getRealMiniBatch(path='mention_path_of_dataset_here', batch_size=BATCH_SIZE)"
   ]
  },
  {
   "cell_type": "code",
   "execution_count": null,
   "metadata": {},
   "outputs": [],
   "source": [
    "Real_batch = next(real_images_batch)\n",
    "print(Real_batch.shape[0])"
   ]
  },
  {
   "cell_type": "code",
   "execution_count": null,
   "metadata": {},
   "outputs": [],
   "source": [
    "def Generator():\n",
    "  \n",
    "    model = Sequential()\n",
    "\n",
    "    model.add(Dense(8*8*1024, use_bias=False, input_shape = (100,)))\n",
    "    model.add(BatchNormalization())\n",
    "    model.add(LeakyReLU())\n",
    "\n",
    "    model.add(Reshape((8,8,1024)))\n",
    "    assert model.output_shape == (None, 8, 8, 1024)\n",
    "\n",
    "    model.add(Conv2DTranspose(512, (3,3), strides = (2, 2), padding='same'))\n",
    "    model.add(BatchNormalization())\n",
    "    model.add(LeakyReLU())\n",
    "    assert model.output_shape == (None, 16, 16, 512)\n",
    "\n",
    "    model.add(Conv2DTranspose(256, (3,3), strides = (2, 2), padding='same'))\n",
    "    model.add(BatchNormalization())\n",
    "    model.add(LeakyReLU())\n",
    "    assert model.output_shape == (None, 32, 32, 256)\n",
    "\n",
    "    model.add(Conv2DTranspose(128, (3,3), strides = (2, 2), padding='same'))\n",
    "    model.add(BatchNormalization())\n",
    "    model.add(LeakyReLU())\n",
    "    assert model.output_shape == (None, 64, 64, 128)\n",
    "\n",
    "    model.add(Conv2DTranspose(64, (3,3), strides = (2, 2), padding='same'))\n",
    "    model.add(BatchNormalization())\n",
    "    model.add(LeakyReLU())\n",
    "    assert model.output_shape == (None, 128, 128, 64)\n",
    "\n",
    "    model.add(Conv2DTranspose(32, (3,3), strides = (2, 2), padding='same'))\n",
    "    model.add(BatchNormalization())\n",
    "    model.add(LeakyReLU())\n",
    "    assert model.output_shape == (None, 256, 256, 32)\n",
    "\n",
    "    model.add(Conv2DTranspose(3, (3,3), strides = (2, 2), padding='same', activation='tanh'))\n",
    "    assert model.output_shape == (None, 512, 512, 3)\n",
    "\n",
    "    return model"
   ]
  },
  {
   "cell_type": "code",
   "execution_count": null,
   "metadata": {},
   "outputs": [],
   "source": [
    "def Discriminator():\n",
    "\n",
    "    model = Sequential()\n",
    "\n",
    "    model.add(Conv2D(32, (3,3), strides=(2, 2), padding='same', input_shape=[512, 512, 3]))\n",
    "    model.add(BatchNormalization(momentum=0.8))\n",
    "    model.add(LeakyReLU(alpha = 0.2))\n",
    "    model.add(Dropout(0.3))\n",
    "\n",
    "    model.add(Conv2D(64, (3,3), strides=(2, 2), padding='same'))\n",
    "    model.add(BatchNormalization(momentum=0.8))\n",
    "    model.add(LeakyReLU(alpha = 0.2))\n",
    "    model.add(Dropout(0.3))\n",
    "\n",
    "    model.add(Conv2D(128, (3,3), strides=(2, 2), padding='same'))\n",
    "    model.add(BatchNormalization(momentum=0.8))\n",
    "    model.add(LeakyReLU(alpha = 0.2))\n",
    "    model.add(Dropout(0.3))\n",
    "\n",
    "    model.add(Conv2D(256, (3,3), strides=(2, 2), padding='same'))\n",
    "    model.add(BatchNormalization(momentum=0.8))\n",
    "    model.add(LeakyReLU(alpha = 0.2))\n",
    "    model.add(Dropout(0.3))\n",
    "\n",
    "    model.add(Conv2D(512, (3,3), strides=(2, 2), padding='same'))\n",
    "    model.add(BatchNormalization(momentum=0.8))\n",
    "    model.add(LeakyReLU(alpha = 0.2))\n",
    "    model.add(Dropout(0.3))\n",
    "\n",
    "    model.add(Flatten())\n",
    "    model.add(Dense(1, activation='sigmoid'))\n",
    "\n",
    "    return model"
   ]
  },
  {
   "cell_type": "code",
   "execution_count": null,
   "metadata": {},
   "outputs": [],
   "source": [
    "def GAN(generator, discriminator):\n",
    "    discriminator.trainable=False\n",
    "    noise = Input(shape=(100,))\n",
    "    generator_output = generator(noise)\n",
    "    discriminator_output = discriminator(generator_output)\n",
    "    gan = Model(noise, discriminator_output)\n",
    "    return gan"
   ]
  },
  {
   "cell_type": "code",
   "execution_count": null,
   "metadata": {},
   "outputs": [],
   "source": [
    "generator = Generator()\n",
    "\n",
    "discriminator = Discriminator()\n",
    "discriminator.compile(optimizer=Optimizer.Adam(lr = 0.0003), loss = 'binary_crossentropy')\n",
    "\n",
    "gan = GAN(generator, discriminator)\n",
    "gan.compile(optimizer=Optimizer.Adam(lr = 0.0003), loss = 'binary_crossentropy')\n",
    "\n",
    "real = np.ones((BATCH_SIZE,1))\n",
    "fake = np.zeros((BATCH_SIZE,1))\n",
    "\n",
    "if os.path.exists('saved_weights'):\n",
    "    print('Loading weights from saved_models...')\n",
    "    generator.load_weights('saved_weights/generator_weights.hdf5')\n",
    "    discriminator.load_weights('saved_weights/discriminator_weights.hdf5')\n",
    "    gan.load_weights('saved_weights/gan_weights.hdf5')\n",
    "    print('Complete')\n",
    "else:\n",
    "    os.mkdir('saved_weights')"
   ]
  },
  {
   "cell_type": "code",
   "execution_count": null,
   "metadata": {},
   "outputs": [],
   "source": [
    "epochs = 5000\n",
    "\n",
    "for e in range(epochs):\n",
    "  \n",
    "    Real_batch = next(real_images_batch)\n",
    "    while Real_batch.shape[0]!= BATCH_SIZE:\n",
    "        Real_batch = next(real_images_batch)\n",
    "    \n",
    "    noise = np.random.normal(loc=0, scale=1, size=(BATCH_SIZE, 100))\n",
    "    real_loss = discriminator.train_on_batch(x = Real_batch, y = real)\n",
    "    Fake_batch = generator.predict_on_batch(noise)\n",
    "    fake_loss = discriminator.train_on_batch(x = Fake_batch, y = fake)\n",
    "    \n",
    "    discriminator_loss = np.add(real_loss, fake_loss)/2\n",
    "    gan_loss = gan.train_on_batch(noise, real)\n",
    "\n",
    "    print(\"Epoch: {} Discriminator loss: {:.3f} GAN loss: {:.3f}\".format(e + 1, discriminator_loss, gan_loss))\n",
    "    \n",
    "    if e%50==0:\n",
    "        samples = 10\n",
    "        x_fake = generator.predict(np.random.normal(loc=0, scale=1, size=(samples, 100)))\n",
    "        for k in range(samples):\n",
    "            plt.subplot(2, 5, k+1)\n",
    "            x_fake[k] = np.clip((x_fake[k]/2)+0.5,0,1)\n",
    "            plt.imshow(x_fake[k], cmap='spring')\n",
    "            plt.xticks([])\n",
    "            plt.yticks([])\n",
    "\n",
    "        plt.tight_layout()\n",
    "        plt.show()\n",
    "        discriminator.save_weights('/content/saved_weights/discriminator_weights.hdf5')\n",
    "        generator.save_weights('/content/saved_weights/generator_weights.hdf5')\n",
    "        gan.save_weights('/content/saved_weights/gan_weights.hdf5')\n",
    "        print('Saved the model at epoch {}'.format(e + 1))"
   ]
  }
 ],
 "metadata": {
  "kernelspec": {
   "display_name": "Python [conda env:new_env]",
   "language": "python",
   "name": "conda-env-new_env-py"
  },
  "language_info": {
   "codemirror_mode": {
    "name": "ipython",
    "version": 3
   },
   "file_extension": ".py",
   "mimetype": "text/x-python",
   "name": "python",
   "nbconvert_exporter": "python",
   "pygments_lexer": "ipython3",
   "version": "3.7.3"
  }
 },
 "nbformat": 4,
 "nbformat_minor": 2
}
